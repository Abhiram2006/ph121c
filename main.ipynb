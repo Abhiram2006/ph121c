{
 "cells": [
  {
   "cell_type": "markdown",
   "id": "96c723b2-29e4-4bdc-8eb1-f9f5b56ff5f6",
   "metadata": {
    "tags": []
   },
   "source": [
    "# Assignment 1\n",
    "\n",
    "# 4. Exact Diagonalization study of the quantum Ising model\n",
    "\n",
    "# 4.1 Dense ED\n",
    "\n",
    "Generate the quantum Ising Hamiltonian (4) as a dense matrix and call an explicit diagonalization routine for the entire spectrum for system sizes $L = 8, 10, 12, 14,$ and for a range of values of h. Plot the ground state energy as a function of $h$ for the various $L$. Compare the open systems with periodic ones for the same parameters—how does each phase react to the boundaries?\n"
   ]
  },
  {
   "cell_type": "markdown",
   "id": "f9aa828b-9530-45c9-8032-a98749437d18",
   "metadata": {},
   "source": [
    "import relevant packages"
   ]
  },
  {
   "cell_type": "code",
   "execution_count": null,
   "id": "cfb0337e-9aa5-4cd0-97ad-fe351de31c05",
   "metadata": {},
   "outputs": [],
   "source": [
    "import numpy as np\n",
    "import matplotlib.pyplot as plt\n",
    "import scipy\n",
    "from tqdm import tqdm\n",
    "import time\n",
    "import sys\n",
    "import os\n",
    "from multiprocessing import Pool\n",
    "from functools import partial\n",
    "directory = 'assign1/figures'\n",
    "if not os.path.exists(directory):\n",
    "    os.makedirs(directory)"
   ]
  },
  {
   "cell_type": "markdown",
   "id": "b249fd80-c294-4c90-8a90-96a9349c0f96",
   "metadata": {
    "tags": []
   },
   "source": [
    "## Constructing the  dense Hamiltonian\n",
    "\n",
    "The Hamiltonian of the quantum Ising chain is given by\n",
    "\n",
    "$$H = -J \\sum_{j=1}^{L-1} \\sigma_z^j \\sigma_z^{j+1} - h \\sum_{j=1}^{L} \\sigma_x^j $$\n",
    "\n",
    "Instead of having to do all these time-consuming Kronecker products we can quickly realize that \n",
    "\n",
    "$$\t\tH_{\\alpha \\beta} = \\langle e_\\alpha | H | e_\\beta \\rangle \\neq 0 \\quad \\text{if} \\quad \n",
    "\t\t\\begin{cases}\n",
    "\t\t\t\\alpha = \\beta \\\\\n",
    "\t\t\t\\text{or } \\alpha \\text{ and } \\beta \\text{ differ by a single bit flip.}\n",
    "\t\t\\end{cases}$$\n",
    "        \n",
    "This is because $|\\uparrow \\rangle$ and $|\\downarrow \\rangle$ are eigenstates of $\\sigma_z$ and $\\sigma_x$ flips $|\\uparrow \\rangle \\longleftrightarrow |\\downarrow \\rangle$. The states $| e_\\alpha \\rangle$  are defined in an orthogonal basis as follows:\n",
    "\n",
    "\n",
    "\\begin{align*}\n",
    "|e_0\\rangle &= |000 \\ldots 0\\rangle, \\\\\n",
    "|e_1\\rangle &= |100 \\ldots 0\\rangle, \\\\\n",
    "|e_2\\rangle &= |010 \\ldots 0\\rangle, \\\\\n",
    "|e_3\\rangle &= |110 \\ldots 0\\rangle, \\\\\n",
    "&\\text{and so on.}\n",
    "\\end{align*}\n",
    "\n",
    "\n",
    "Where $0$ represents $|\\uparrow \\rangle$ and $1$ represents $|\\downarrow \\rangle$. Now that we have the states represented as integers, we can use fast bit operations to quickly construct the Hamiltonian."
   ]
  },
  {
   "cell_type": "code",
   "execution_count": null,
   "id": "d3b2bb06-7eb5-484a-b5ad-67b5c227feb2",
   "metadata": {
    "tags": []
   },
   "outputs": [],
   "source": [
    "def denseH(L, J, h, periodic):\n",
    "    \"\"\"\n",
    "    generates the dense Hamiltonian matrix for the quantum Ising chain\n",
    "    \n",
    "        Parameters:\n",
    "            L (int): length of chain\n",
    "            J (float): ising interaction strength\n",
    "            h (float): magnetic field strength\n",
    "            periodic (bool): does the chain have periodic boundary conditions?\n",
    "            \n",
    "        Returns:\n",
    "            H (ndarray): 2^L x 2^L matrix representing the Hamiltonian operator\n",
    "    \"\"\"\n",
    "\n",
    "    dim=2 ** L # dimensions of the Hilbert space\n",
    "    \n",
    "    H=np.zeros((dim, dim)) # initliaze the Hamiltonian\n",
    "    \n",
    "    \"Calculation of off-diagonal elements due to the magnetic field\"\n",
    "    \n",
    "    for beta in range(dim): # iterate over all states\n",
    "        \n",
    "        for j in range(1,L+1): # iterate over all sites\n",
    "            \n",
    "            alpha = beta ^ (1<<j-1) # flips jth bit of beta to get the state alpha that is related to beta by a single bit flip\n",
    "            \n",
    "            H[alpha, beta] -= h # contribution by sigma^j_x\n",
    "            \n",
    "    \"Calculation of diagonal elements due to Ising interaction\"\n",
    "\n",
    "    for alpha in range(dim): # iterate over all states\n",
    "        \n",
    "        for j in range(1, L): # iterate over all sites\n",
    "            \n",
    "            if 2*(alpha & (1 << j-1)) == alpha & (1 << j): # check if site j and j+1 have the same spin\n",
    "                \n",
    "                H[alpha, alpha] -= J # if they do, decrease the energy by the ising interaction term\n",
    "                \n",
    "            else:\n",
    "                \n",
    "                H[alpha, alpha] += J # if not, increase the energy by the ising interaction term\n",
    "        \n",
    "        \"Handling case of periodic boundary conditions\"\n",
    "                \n",
    "        if periodic and L > 1: # L > 1 needed for periodicity to mean anything\n",
    "            \n",
    "            if (alpha & (1 << L-1)) == ((alpha & (1 << 0))*(2**(L-1))): # Check if the states at either end have the same spin\n",
    "                \n",
    "                H[alpha, alpha] -= J # if they do, decrease the energy by the ising interaction term\n",
    "                \n",
    "            else:\n",
    "                \n",
    "                H[alpha, alpha] += J # if not, increase the energy by the ising interaction term\n",
    "                \n",
    "    return H   "
   ]
  },
  {
   "cell_type": "markdown",
   "id": "f662d9d2-8cec-43a1-ac3a-9c51f3fc89a0",
   "metadata": {},
   "source": [
    "### Dense diagonalization implementation"
   ]
  },
  {
   "cell_type": "code",
   "execution_count": null,
   "id": "7754a9fb-7f2f-4887-b72d-5fcbc90cc584",
   "metadata": {
    "tags": []
   },
   "outputs": [],
   "source": [
    "def denseEgs(L, J, h, periodic):\n",
    "    \"\"\"\n",
    "    returns the ground state eigenenergy of the Ising chain\n",
    "    \n",
    "        Parameters:\n",
    "            L (int): length of chain\n",
    "            J (float): ising interaction strength\n",
    "            h (float): magnetic field strength\n",
    "            periodic (bool): does the chain have periodic boundary conditions?\n",
    "        \n",
    "        Returns:\n",
    "            ground_state (float): ground state energy\n",
    "    \"\"\"\n",
    "\n",
    "    H = denseH(L, J, h , periodic) # construct the dense Hamiltonian\n",
    "    \n",
    "    ground_state = scipy.linalg.eigh(H, subset_by_index=(0, 0), eigvals_only=True)[0] # return only the smallest eigenvalue (increases the speed quite a bit)\n",
    "    \n",
    "    return ground_state "
   ]
  },
  {
   "cell_type": "markdown",
   "id": "f8531779-625d-4102-99df-cb31ed7b73e5",
   "metadata": {},
   "source": [
    "### Plotting the ground state energy as a function of h for various L"
   ]
  },
  {
   "cell_type": "code",
   "execution_count": null,
   "id": "c9db175b-426d-4f99-92f5-e858d4ec590c",
   "metadata": {
    "tags": []
   },
   "outputs": [],
   "source": [
    "# initialize\n",
    "L_values = [8] \n",
    "h_values = np.linspace(0, 2, 20) # the problem is symmetric about h = 0, so we can cut computation-time in half by computing only positive h\n",
    "periodicgs = {L: [] for L in L_values}\n",
    "opengs = {L: [] for L in L_values}\n",
    "xkcd_colors=['xkcd:indigo', 'xkcd:royal blue', 'xkcd:bright green', 'xkcd:red']\n",
    "\n",
    "\"Plot Egs vs h for both periodic and open boundary conditions\"\n",
    "\n",
    "for L in L_values:\n",
    "    for h in tqdm(h_values, desc=f'Calculating for L={L}'):\n",
    "        periodicgs[L].append(denseEgs(L, 1, h, True))\n",
    "        opengs[L].append(denseEgs(L, 1, h, False))\n",
    "        \n",
    "# Dashed line -> Open\n",
    "# Solid line -> Periodic\n",
    "        \n",
    "for i, (L, energies) in enumerate(periodicgs.items()):\n",
    "    plt.plot(h_values, energies, label=f'L={L}', color=xkcd_colors[i])\n",
    "    \n",
    "for i, (L, energies) in enumerate(opengs.items()):\n",
    "    plt.plot(h_values, energies, color=xkcd_colors[i], linestyle='--')\n",
    "\n",
    "plt.xlabel('field strength')\n",
    "plt.ylabel(r'$E_{gs}$')\n",
    "plt.title('Ground state energy versus magnetic field \\n for various values of L')\n",
    "plt.legend()\n",
    "plt.savefig(os.path.join(directory, 'plot-dense.png'), dpi=400)\n",
    "plt.show()"
   ]
  },
  {
   "cell_type": "markdown",
   "id": "3573e5af-25cc-489f-ab89-089109d7ad3b",
   "metadata": {},
   "source": [
    "# 4.2 Sparse ED\n",
    "\n",
    "Construct the same Hamiltonian as a sparse matrix and use a sparse matrix diagonalization routine\n",
    "provided by a standard library. Obtain the ground state and a few excited states, and for small\n",
    "system sizes verify your results against the dense ED solution. How large of a system can you push\n",
    "the sparse diagonalization routine to solve?\n",
    "\n",
    "Optional. Try implementing your own Lanczos routine."
   ]
  },
  {
   "cell_type": "markdown",
   "id": "3b003113-b848-4b69-83f5-6150e0179753",
   "metadata": {
    "tags": []
   },
   "source": [
    "As you can see L = 14 takes forever to run and the memory limits significantly constrain us as well. But, most of the elements of the Hamiltonian are zero, we can use this sparseness to our advantage by slightly modifying our code. Instead of initializing the whole $2^L \\times 2^L$ matrix, we just keep track of the non-zero elements of the Hamiltonian and use scipy.sparse to convert it into a standard sparse-matrix data structure.\n",
    "\n",
    "## Constructing the Sparse Hamiltonian"
   ]
  },
  {
   "cell_type": "code",
   "execution_count": null,
   "id": "393cbe12-71f9-4830-90f6-640f3465a547",
   "metadata": {
    "tags": []
   },
   "outputs": [],
   "source": [
    "def sparseH(L, J, h, periodic):\n",
    "    \n",
    "    \"\"\"\n",
    "    generates the sparse Hamiltonian matrix for the quantum Ising chain\n",
    "    \n",
    "        Parameters:\n",
    "            L (int): length of chain\n",
    "            J (float): ising interaction strength\n",
    "            h (float): magnetic field strength\n",
    "            periodic (bool): does the chain have periodic boundary conditions?\n",
    "            \n",
    "        Returns:\n",
    "            H (csr_matrix): sparse matrix representing the Hamiltonian operator\n",
    "    \"\"\"\n",
    "    \n",
    "    dim = 2 ** L # dimensions of the Hilbert space\n",
    "    \n",
    "    # initialize \n",
    "    H_data = []\n",
    "    H_rows = []\n",
    "    H_cols = []\n",
    "    \n",
    "    \"Calculation of off-diagonal elements due to the magnetic field\"\n",
    "    \n",
    "    for beta in range(dim): # iterate over all states\n",
    "        \n",
    "        for j in range(1, L + 1): # iterate over all sites\n",
    "            \n",
    "            alpha = beta ^ (1 << (j - 1)) # flips jth bit of beta to get the state alpha that is related to beta by a single bit flip\n",
    "            \n",
    "            \"Keep track of the indices with non-zero matrix elements\"\n",
    "            \n",
    "            H_data.append(-h)\n",
    "            H_rows.append(alpha)\n",
    "            H_cols.append(beta)\n",
    "    \n",
    "    \"Calculation of diagonal elements due to Ising interaction\"\n",
    "\n",
    "    for alpha in range(dim):  # iterate over all states\n",
    "        \n",
    "        A = 0\n",
    "        \n",
    "        for j in range(1, L): # iterate over all sites\n",
    "            \n",
    "            if 2 * (alpha & (1 << (j - 1))) == alpha & (1 << j): # check if site j and j+1 have the same spin\n",
    "                \n",
    "                A -= J # if they do, decrease the energy by the ising interaction term\n",
    "                \n",
    "            else:\n",
    "                \n",
    "                A += J # if not, increase the energy by the ising interaction term\n",
    "                \n",
    "        \"Handling periodic boundary conditions\"\n",
    "                \n",
    "        if periodic and L > 1: # L > 1 needed for periodicity to mean anything\n",
    "            \n",
    "            if (alpha & (1 << (L - 1))) == ((alpha & (1 << 0)) * (2 ** (L - 1))): # Check if the states at either end have the same spin\n",
    "                \n",
    "                A -= J # if they do, decrease the energy by the ising interaction term\n",
    "                \n",
    "            else:\n",
    "                \n",
    "                A += J # if not, increase the energy by the ising interaction term\n",
    "        \n",
    "        if A != 0: # Check if the resulting matrix element is non-zero, if so, keep track of it\n",
    "        \n",
    "            H_data.append(A)\n",
    "            H_rows.append(alpha)\n",
    "            H_cols.append(alpha)\n",
    "\n",
    "    H_data = np.array(H_data, dtype=float) # convert the list into a np array\n",
    "    \n",
    "    H = scipy.sparse.csr_matrix((H_data, (H_rows, H_cols)), shape=(dim, dim), dtype=np.float64) # make it into a csr sparse matrix\n",
    "    \n",
    "    return H"
   ]
  },
  {
   "cell_type": "markdown",
   "id": "f227a300-be0e-443e-b9d3-ea944967523a",
   "metadata": {
    "tags": []
   },
   "source": [
    "## Consistency between Sparse and Dense Diagonalizers\n",
    "\n",
    "Let me write up some useful functions"
   ]
  },
  {
   "cell_type": "code",
   "execution_count": null,
   "id": "bdc79f5d-7457-49a9-9c95-6580177054e7",
   "metadata": {
    "tags": []
   },
   "outputs": [],
   "source": [
    "def diagonalize_dense(L, J, h, periodic):\n",
    "    \"\"\"\n",
    "    generates the eigenstates and eigenenergies from the dense ED\n",
    "    \n",
    "        Parameters:\n",
    "            L (int): length of chain\n",
    "            J (float): ising interaction strength\n",
    "            h (float): magnetic field strength\n",
    "            periodic (bool): does the chain have periodic boundary conditions?\n",
    "            \n",
    "        Returns:\n",
    "            energies: eigenenergies\n",
    "            states: eigenvectors\n",
    "    \"\"\"\n",
    "\n",
    "    energies, states = scipy.linalg.eigh(denseH(L, J, h, periodic))\n",
    "    return energies, states\n",
    "\n",
    "def diagonalize_sparse(L, J, h, periodic, num_states=6):\n",
    "    \"\"\"\n",
    "    generates the eigenstates and eigenenergies from the dense ED\n",
    "    \n",
    "        Parameters:\n",
    "            L (int): length of chain\n",
    "            J (float): ising interaction strength\n",
    "            h (float): magnetic field strength\n",
    "            periodic (bool): does the chain have periodic boundary conditions?\n",
    "            num_states = number of states needed\n",
    "            \n",
    "        Returns:\n",
    "            energies: eigenenergies\n",
    "            states: eigenvectors\n",
    "    \"\"\"\n",
    "    energies, states = scipy.sparse.linalg.eigsh(sparseH(L, J, h, periodic), k=num_states, which='SA')\n",
    "    return energies, states\n",
    "\n",
    "def compare_states(states_dense, states_sparse):\n",
    "    \"\"\"\n",
    "    computes the overlap between corresponding eigenstates obtained from dense and sparse diagonalization methods.\n",
    "    \n",
    "    Parameters:\n",
    "        states_dense (np.ndarray): a 2D array containing the eigenvectors obtained from the dense diagonalization.\n",
    "\n",
    "        states_sparse (np.ndarray): a 2D array containing the eigenvectors obtained from the sparse diagonalization.\n",
    "                                    \n",
    "    Returns:\n",
    "        overlaps (list): list of overlap values for corresponding eigenstates. Each overlap value is a float between\n",
    "                         0 and 1.\n",
    "    \"\"\"\n",
    "    \n",
    "    overlaps = []\n",
    "    \n",
    "    for i in range(len(states_sparse[0])):\n",
    "        overlap = abs(np.dot(states_dense[:, i].conjugate(), states_sparse[:, i])) \n",
    "        # calculates the absolute overlap between the i-th eigenvectors from the dense and sparse results\n",
    "        \n",
    "        overlaps.append(overlap)\n",
    "        \n",
    "    return overlaps"
   ]
  },
  {
   "cell_type": "code",
   "execution_count": null,
   "id": "292cb498-d03e-4a03-9eab-20480e52b31a",
   "metadata": {
    "tags": []
   },
   "outputs": [],
   "source": [
    "L_values = [8, 10]\n",
    "h_values = np.linspace(0, 1, 5)\n",
    "num_states = 6\n",
    "\n",
    "for L in L_values:\n",
    "    for h in h_values:\n",
    "        \n",
    "        energies_dense, states_dense = diagonalize_dense(L, 1, h, True)\n",
    "        energies_sparse, states_sparse = diagonalize_sparse(L, 1, h, True, num_states=num_states)\n",
    "        \n",
    "        print(f\"L={L}, h={h}\")\n",
    "        print(\"Dense ED Energies:\", energies_dense[:num_states])\n",
    "        print(\"Sparse ED Energies:\", energies_sparse)\n",
    "        \n",
    "        overlaps = compare_states(states_dense, states_sparse)\n",
    "        print(\"State overlaps:\", overlaps)\n"
   ]
  },
  {
   "cell_type": "markdown",
   "id": "693324e4-60ba-4ac9-9d1c-b2d4da53e761",
   "metadata": {},
   "source": [
    "As you can see the eigenenergies do match, but the eigenvectors do not seem to have perfect overlap, this is because the states are degenerate and any linear combination can be reported as an eigenvector. You can see this clearly as the non-degenerate states do seem to match."
   ]
  },
  {
   "cell_type": "markdown",
   "id": "e20869a5-10bd-476e-8699-710951b783ab",
   "metadata": {},
   "source": [
    "## Implementation of the sparse matrix as a functional pointer \n",
    "\n",
    "The code below might be useful if there are memory constraints, as instead of writing the Hamiltonian as a matrix we just write up rules that give $H | \\psi \\rangle$ given $| \\psi \\rangle$. This method however seems to be less time-efficient to diagonalize."
   ]
  },
  {
   "cell_type": "code",
   "execution_count": null,
   "id": "1e143530-5673-4564-85d7-92a6a39d8941",
   "metadata": {
    "tags": []
   },
   "outputs": [],
   "source": [
    "def H_operator(L, J, h, periodic, psi):\n",
    "    \n",
    "    \"\"\"\n",
    "    generates the Hamiltonian operator for the quantum Ising chain\n",
    "    \n",
    "        Parameters:\n",
    "            L (int): length of chain\n",
    "            J (float): ising interaction strength\n",
    "            h (float): magnetic field strength\n",
    "            periodic (bool): does the chain have periodic boundary conditions?\n",
    "            \n",
    "        Returns:\n",
    "            H (csr_matrix): sparse matrix representing the Hamiltonian operator\n",
    "    \"\"\"\n",
    "    dim = 2 ** L # dimensions of the Hilbert space\n",
    "    \n",
    "    # initialize \n",
    "    Hpsi = np.zeros(dim, dtype=np.float64)\n",
    "\n",
    "    for beta in range(dim): # iterate over all states\n",
    "        \n",
    "            for j in range(1, L + 1): # iterate over all sites\n",
    "                \n",
    "                alpha = beta ^ (1 << (j - 1)) # flips jth bit of beta to get the state alpha that is related to beta by a single bit flip\n",
    "                \n",
    "                Hpsi[alpha] -= h * psi[beta] # changes the coefficient of the alpha state\n",
    "        \n",
    "    for alpha in range(dim): # iterate over all states\n",
    "        A = 0\n",
    "        for j in range(1, L): # iterate over all sites\n",
    "            if 2 * (alpha & (1 << (j - 1))) == alpha & (1 << j):\n",
    "                A -= J\n",
    "            else:\n",
    "                A += J\n",
    "\n",
    "        if periodic and L > 1:  \n",
    "            if (alpha & (1 << (L - 1))) == ((alpha & (1 << 0)) * (2 ** (L - 1))):\n",
    "                A -= J\n",
    "            else:\n",
    "                A += J\n",
    "\n",
    "        Hpsi[alpha] += A * psi[alpha]\n",
    "\n",
    "    \n",
    "    return scipy.sparse.linalg.LinearOperator((dim, dim), matvec=H_psi)\n",
    "\n",
    "def H_operator(L, J, h, periodic):\n",
    "    def H_psi(psi):\n",
    "        dim = 2 ** L\n",
    "        Hpsi = np.zeros(dim, dtype=np.float64)\n",
    "        for beta in range(dim):\n",
    "            for j in range(1, L + 1):\n",
    "                alpha = beta ^ (1 << (j - 1))\n",
    "                Hpsi[alpha] -= h * psi[beta]\n",
    "        for alpha in range(dim):\n",
    "            A = 0\n",
    "            for j in range(1, L):\n",
    "                if 2 * (alpha & (1 << (j - 1))) == alpha & (1 << j):\n",
    "                    A -= J\n",
    "                else:\n",
    "                    A += J\n",
    "            if periodic and L > 1:\n",
    "                if (alpha & (1 << (L - 1))) == ((alpha & (1 << 0)) * (2 ** (L - 1))):\n",
    "                    A -= J\n",
    "                else:\n",
    "                    A += J\n",
    "            Hpsi[alpha] += A * psi[alpha]\n",
    "        return Hpsi\n",
    "    dim = 2 ** L\n",
    "    return scipy.sparse.linalg.LinearOperator((dim, dim), matvec=H_psi)\n"
   ]
  },
  {
   "cell_type": "markdown",
   "id": "1225e81f-556c-46fd-869d-f9f0c4af4dc5",
   "metadata": {
    "tags": []
   },
   "source": [
    "Performance difference between the two styles"
   ]
  },
  {
   "cell_type": "code",
   "execution_count": null,
   "id": "de5784ea-d3a5-42a0-8ec0-1106667d4dbd",
   "metadata": {
    "tags": []
   },
   "outputs": [],
   "source": [
    "L = 14\n",
    "J = 1\n",
    "h = 0.5\n",
    "periodic = True\n",
    "num_states = 1\n",
    "\n",
    "\n",
    "start_time_sparse = time.time()\n",
    "H_sparse = sparseH(L, J, h, periodic)\n",
    "energies_sparse, states_sparse = scipy.sparse.linalg.eigsh(H_sparse, k=num_states, which='SA')\n",
    "end_time_sparse = time.time()\n",
    "\n",
    "start_time_operator = time.time()\n",
    "H_op = H_operator(L, J, h, periodic)\n",
    "energies_op, states_op = scipy.sparse.linalg.eigsh(H_op, k=num_states, which='SA')\n",
    "end_time_operator = time.time()\n",
    "\n",
    "time_sparse = end_time_sparse - start_time_sparse\n",
    "time_operator = end_time_operator - start_time_operator\n",
    "\n",
    "print('time taken by csr Hamiltonian: ', time_sparse)\n",
    "\n",
    "print('time taken by operator Hamiltonian: ', time_operator)\n",
    "\n",
    "\n",
    "\n",
    "H_sparse_memory = sys.getsizeof(H_sparse.data) + sys.getsizeof(H_sparse.indices) + sys.getsizeof(H_sparse.indptr)\n",
    "H_op_memory = sys.getsizeof(H_op)\n",
    "\n",
    "print('memory used by csr Hamiltonian: ', H_sparse_memory)\n",
    "\n",
    "print('memory used by operator Hamilonian: ', H_op_memory)\n"
   ]
  },
  {
   "cell_type": "markdown",
   "id": "6447b3c3-1a45-40e3-a366-93ba8b58a62b",
   "metadata": {},
   "source": [
    "Since time is our bigger concern I will use sparseH, however this functional pointer approach might be worth considering depending on the task chosen."
   ]
  },
  {
   "cell_type": "markdown",
   "id": "dcb79760-feb5-4542-917f-413c3bb9818f",
   "metadata": {
    "tags": []
   },
   "source": [
    "# 4.3 Study of convergence with system size\n",
    "\n",
    "For representative values of $h$ inside each phase (e.g., $h = 0.3$) in the ferromagnetic phase and $h = 1.7$ in the paramagnet), study the $L$ dependence of the ground state energy per site, $E_{\\text{gs}}(L)/L$, for systems with both periodic and open boundary conditions. Comment on the approach to the thermodynamic limit $L \\rightarrow \\infty$ for the two types of boundaries.\n",
    "\n"
   ]
  },
  {
   "cell_type": "code",
   "execution_count": null,
   "id": "8bdb7d9b-2d8c-4b9b-9709-e8a07439dfc4",
   "metadata": {
    "tags": []
   },
   "outputs": [],
   "source": [
    "def sparseEgs(L, J, h, periodic):\n",
    "    \"\"\"\n",
    "    returns the ground state eigenenergy of the Ising chain using sparse diagonalization \n",
    "    \n",
    "        Parameters:\n",
    "            L (int): length of chain\n",
    "            J (float): ising interaction strength\n",
    "            h (float): magnetic field strength\n",
    "            periodic (bool): does the chain have periodic boundary conditions?\n",
    "        \n",
    "        Returns:\n",
    "            ground_state (float): ground state energy\n",
    "    \"\"\"\n",
    "\n",
    "    H = denseH(L, J, h , periodic) # construct the dense Hamiltonian\n",
    "    \n",
    "    ground_state = scipy.sparse.linalg.eigsh(H, k=1, which='SA', return_eigenvectors=False)[0] # return only the smallest eigenvalue (increases the speed quite a bit)\n",
    "    \n",
    "    return ground_state "
   ]
  },
  {
   "cell_type": "markdown",
   "id": "609e1734-e6aa-4204-8905-fc401b402068",
   "metadata": {},
   "source": [
    "Let us check the convergence to thermodynamic limit of the ferromagnetic and paramagnetic phases for increasing L"
   ]
  },
  {
   "cell_type": "code",
   "execution_count": null,
   "id": "571e6125-c54a-42d2-8d44-0380fe80bac2",
   "metadata": {
    "tags": []
   },
   "outputs": [],
   "source": [
    "paraPERIODIC=[]\n",
    "ferroPERIODIC=[]\n",
    "paraOPEN=[]\n",
    "ferroOPEN=[]\n",
    "Ls = list(range(2, 25))  \n",
    "\n",
    "for L in tqdm(Ls, desc=\"Calculating energies\"):\n",
    "    start_time = time.time()\n",
    "    ferroPERIODIC.append(sparseEgs(L, 1, 0.3, True)/L)\n",
    "    paraPERIODIC.append(sparseEgs(L, 1, 1.7, True)/L)\n",
    "    ferroOPEN.append(sparseEgs(L, 1, 0.3, False)/L)\n",
    "    paraOPEN.append(sparseEgs(L, 1, 1.7, False)/L)\n",
    "    elapsed_time = time.time() - start_time\n",
    "    print(f\"L = {L}, Time taken: {elapsed_time:.2f} seconds\")"
   ]
  },
  {
   "cell_type": "code",
   "execution_count": null,
   "id": "b1078f84-3dd8-4e77-9ee8-6aef97a3fa3a",
   "metadata": {
    "tags": []
   },
   "outputs": [],
   "source": [
    "plt.plot(Ls, ferroOPEN, label='open', linestyle=\"dashdot\", color='xkcd:royal blue')\n",
    "plt.plot(Ls, ferroPERIODIC, label=\"periodic\", color=\"xkcd:bright red\")\n",
    "plt.legend()\n",
    "plt.xlabel('L')\n",
    "plt.ylabel(r'$\\epsilon_{gs}(L)/L$')\n",
    "plt.title( r'$\\epsilon_{gs}(L)/L$ dependence on $L$ for ferro-magnetic phase ($h=0.3$)')\n",
    "plt.savefig(os.path.join(directory, 'ferro_open_periodic.png'), dpi=400)\n",
    "plt.show()\n",
    "\n",
    "\n",
    "\n",
    "plt.plot(Ls, paraOPEN, label='open', linestyle=\"dashdot\", color='xkcd:royal blue')\n",
    "plt.plot(Ls, paraPERIODIC, label=\"periodic\", color=\"xkcd:bright red\")\n",
    "plt.title( r'$\\epsilon_{gs}(L)/L$ dependence on $L$ for para-magnetic phase ($h=1.7$)')\n",
    "plt.xlabel('L')\n",
    "plt.ylabel(r'$\\epsilon_{gs}(L)/L$')\n",
    "plt.legend()\n",
    "plt.savefig(os.path.join(directory, 'para_open_periodic.png'), dpi=400)\n",
    "plt.show()"
   ]
  }
 ],
 "metadata": {
  "kernelspec": {
   "display_name": "Python 3 (ipykernel)",
   "language": "python",
   "name": "python3"
  },
  "language_info": {
   "codemirror_mode": {
    "name": "ipython",
    "version": 3
   },
   "file_extension": ".py",
   "mimetype": "text/x-python",
   "name": "python",
   "nbconvert_exporter": "python",
   "pygments_lexer": "ipython3",
   "version": "3.11.8"
  }
 },
 "nbformat": 4,
 "nbformat_minor": 5
}
