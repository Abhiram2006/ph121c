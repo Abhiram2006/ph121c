{
 "cells": [
  {
   "cell_type": "markdown",
   "id": "96c723b2-29e4-4bdc-8eb1-f9f5b56ff5f6",
   "metadata": {
    "tags": []
   },
   "source": [
    "# Assignment 1\n",
    "\n",
    "## 4. Exact Diagonalization study of the quantum Ising model\n",
    "\n",
    "### 4.1 Dense ED\n",
    "\n",
    "Generate the quantum Ising Hamiltonian (4) as a dense matrix and call an explicit diagonalization routine for the entire spectrum for system sizes $L = 8, 10, 12, 14,$ and for a range of values of h. Plot the ground state energy as a function of $h$ for the various $L$. Compare the open systems with periodic ones for the same parameters—how does each phase react to the boundaries?\n",
    "\n",
    "### Solution"
   ]
  },
  {
   "cell_type": "markdown",
   "id": "dc54898a-ab99-45c1-ade5-8d92dd98ef45",
   "metadata": {},
   "source": [
    "Let me quickly define the pauli matrices\n",
    "\n",
    "$$\\sigma _{x}={\\begin{pmatrix}0&1\\\\1&0\\end{pmatrix}},\\ \\sigma _{y}={\\begin{pmatrix}0&-i\\\\i&0\\end{pmatrix}},\\ \\sigma _{z}={\\begin{pmatrix}1&0\\\\0&-1\\end{pmatrix}}$$\n"
   ]
  },
  {
   "cell_type": "code",
   "execution_count": 18,
   "id": "24cbfcdb-6e9a-4083-8ee9-113bc7a1d1b9",
   "metadata": {
    "tags": []
   },
   "outputs": [],
   "source": [
    "import numpy as np\n",
    "\n",
    "# the pauli matrices as np arrays\n",
    "sx = np.array([[0, 1], [1, 0]]) \n",
    "sy = np.array([[0, -1j], [1j, 0]])\n",
    "sz = np.array([[1, 0], [0, -1]])\n",
    "\n",
    "# the 2x2 identity matrix\n",
    "I = np.array([[1, 0], [0, 1]]) "
   ]
  },
  {
   "cell_type": "markdown",
   "id": "e79e6204-c920-40cc-a347-765a27f67bfe",
   "metadata": {},
   "source": [
    "Let me define a function that spits out the total Hamiltonian given $L$ and $h$ (in k-local description)\n",
    "\n",
    "$$ H = - \\sum_{j=1}^{L-1} \\sigma_j^z \\sigma_{j+1}^z - h \\sum_{j=1}^L \\sigma_j^x $$"
   ]
  },
  {
   "cell_type": "code",
   "execution_count": 141,
   "id": "5bb8e5cb-69f7-4bb7-8693-138364afcf58",
   "metadata": {
    "tags": []
   },
   "outputs": [],
   "source": [
    "def Hamiltonian_open(L, h, periodic):\n",
    "    \"\"\"\n",
    "    generates the Hamiltonian of the open quantum Ising chain as a dense matrix\n",
    "\n",
    "        Parameters:\n",
    "            L (int): length of the chain (L)\n",
    "            h (float): strength of magnetic field \n",
    "        \n",
    "        Returns:\n",
    "            H (array): 2^L x 2^L numpy array which represents the Hamiltonian\n",
    "    \"\"\"\n",
    "    dim = 2**L\n",
    "    H=np.zeros((dim, dim))\n",
    "    \n",
    "    if L==2:\n",
    "        a=np.kron(sz, sz)\n",
    "        b=np.kron(I, sx)\n",
    "        c=np.kron(sx, I)\n",
    "        \n",
    "        return -(a+h*(b+c))\n",
    "    \n",
    "    for j in range(1, L+1):\n",
    "        if j==1:\n",
    "            a=np.kron(sz, sz)\n",
    "            a=np.kron(a, np.identity(2**(L-j-1)))\n",
    "            \n",
    "            b=np.kron(sx, np.identity(2**(L-1)))\n",
    "\n",
    "            H-=a+h*b\n",
    "                              \n",
    "        elif j==L-1:\n",
    "            a=np.kron(sz, sz)\n",
    "            a=np.kron(np.identity(2**(j-1)), a)\n",
    "            \n",
    "            b=np.kron(np.identity(2**(L-2)), sx)\n",
    "            b=np.kron(b, np.identity(2**(1)))\n",
    "\n",
    "            H-=a+h*b\n",
    "            \n",
    "            \n",
    "        elif j != L:\n",
    "            a=np.kron(np.identity(2**(j-1)), sz)\n",
    "            a=np.kron(a, sz)\n",
    "            a=np.kron(a, np.identity(2**(L-j-1)))\n",
    "            \n",
    "            b=np.kron(np.identity(2**(j-1)), sx)\n",
    "            b=np.kron(b, np.identity(2**(L-j)))\n",
    "            \n",
    "            H-=a+h*b\n",
    "            \n",
    "            \n",
    "        else:\n",
    "            b=np.kron(np.identity(2**(L-1)), sx)\n",
    "            H-=h*b\n",
    "            \n",
    "            \n",
    "        \n",
    "            \n",
    "    if periodic:\n",
    "        a=np.kron(sz, np.identity(2**(L-2)))\n",
    "        a=np.kron(a, sz)\n",
    "        H-=a\n",
    "        \n",
    "    return H \n",
    "            \n",
    "    "
   ]
  },
  {
   "cell_type": "code",
   "execution_count": 164,
   "id": "cd2867a9-a483-49da-81c9-816ac2cb6752",
   "metadata": {
    "tags": []
   },
   "outputs": [],
   "source": [
    "\n",
    "def count_zeros(matrix):\n",
    "    # Convert the matrix to a numpy array\n",
    "    arr = np.array(matrix)\n",
    "    \n",
    "    # Count the number of zeros using numpy's count_nonzero function\n",
    "    num_zeros = np.count_nonzero(arr == 0)\n",
    "    \n",
    "    return num_zeros\n"
   ]
  },
  {
   "cell_type": "code",
   "execution_count": 174,
   "id": "e8730434-2aa9-4be6-8a6a-b476302942ee",
   "metadata": {
    "tags": []
   },
   "outputs": [
    {
     "data": {
      "text/plain": [
       "array([[-3. , -0.5, -0.5,  0. , -0.5,  0. ,  0. ,  0. ],\n",
       "       [-0.5,  1. ,  0. , -0.5,  0. , -0.5,  0. ,  0. ],\n",
       "       [-0.5,  0. ,  1. , -0.5,  0. ,  0. , -0.5,  0. ],\n",
       "       [ 0. , -0.5, -0.5,  1. ,  0. ,  0. ,  0. , -0.5],\n",
       "       [-0.5,  0. ,  0. ,  0. ,  1. , -0.5, -0.5,  0. ],\n",
       "       [ 0. , -0.5,  0. ,  0. , -0.5,  1. ,  0. , -0.5],\n",
       "       [ 0. ,  0. , -0.5,  0. , -0.5,  0. ,  1. , -0.5],\n",
       "       [ 0. ,  0. ,  0. , -0.5,  0. , -0.5, -0.5, -3. ]])"
      ]
     },
     "execution_count": 174,
     "metadata": {},
     "output_type": "execute_result"
    }
   ],
   "source": [
    "Hamiltonian_open(3, 0.5, True)"
   ]
  },
  {
   "cell_type": "code",
   "execution_count": 230,
   "id": "cfb0337e-9aa5-4cd0-97ad-fe351de31c05",
   "metadata": {},
   "outputs": [
    {
     "name": "stdout",
     "output_type": "stream",
     "text": [
      "[[-2.  0.  0.  0.  0.  0.  0.  0.]\n",
      " [ 0.  0.  0.  0.  0.  0.  0.  0.]\n",
      " [ 0.  0.  2.  0.  0.  0.  0.  0.]\n",
      " [ 0.  0.  0.  0.  0.  0.  0.  0.]\n",
      " [ 0.  0.  0.  0.  0.  0.  0.  0.]\n",
      " [ 0.  0.  0.  0.  0.  2.  0.  0.]\n",
      " [ 0.  0.  0.  0.  0.  0.  0.  0.]\n",
      " [ 0.  0.  0.  0.  0.  0.  0. -2.]]\n",
      "[[-2.  0.  0.  0.  0.  0.  0.  0.]\n",
      " [ 0.  0.  0.  0.  0.  0.  0.  0.]\n",
      " [ 0.  0.  2.  0.  0.  0.  0.  0.]\n",
      " [ 0.  0.  0.  0.  0.  0.  0.  0.]\n",
      " [ 0.  0.  0.  0.  0.  0.  0.  0.]\n",
      " [ 0.  0.  0.  0.  0.  2.  0.  0.]\n",
      " [ 0.  0.  0.  0.  0.  0.  0.  0.]\n",
      " [ 0.  0.  0.  0.  0.  0.  0. -2.]]\n"
     ]
    }
   ],
   "source": [
    "def Hamiltonian(L,J, h, periodic):\n",
    "    dim=2**L\n",
    "    H=np.zeros((dim, dim))\n",
    "    \n",
    "    for beta in range(dim):\n",
    "        for j in range(1,L+1):\n",
    "            alpha = beta ^ (1<<j-1)\n",
    "            H[alpha, beta] = H[beta, alpha]=-h\n",
    "\n",
    "    for alpha in range(dim):\n",
    "        for j in range(1, L): \n",
    "            if 2*(alpha & (1 << j-1)) == alpha & (1 << j):\n",
    "                H[alpha, alpha]-=J\n",
    "            else:\n",
    "                H[alpha, alpha]+=J\n",
    "        \n",
    "    if periodic:\n",
    "        for alpha in range(dim):\n",
    "            if alpha & (1 << 0) == alpha & (1 << L-1):\n",
    "                H[alpha, alpha]-=J\n",
    "    return H\n",
    "            \n",
    "# print(Hamiltonian(2,1,0,False))\n",
    "# print(Hamiltonian_open(3,0, False))\n",
    "\n",
    "    "
   ]
  },
  {
   "cell_type": "code",
   "execution_count": null,
   "id": "2eb715ce-1fbb-4193-bd41-9eadcdc7ed7f",
   "metadata": {},
   "outputs": [],
   "source": []
  }
 ],
 "metadata": {
  "kernelspec": {
   "display_name": "Python 3 (ipykernel)",
   "language": "python",
   "name": "python3"
  },
  "language_info": {
   "codemirror_mode": {
    "name": "ipython",
    "version": 3
   },
   "file_extension": ".py",
   "mimetype": "text/x-python",
   "name": "python",
   "nbconvert_exporter": "python",
   "pygments_lexer": "ipython3",
   "version": "3.11.8"
  }
 },
 "nbformat": 4,
 "nbformat_minor": 5
}
